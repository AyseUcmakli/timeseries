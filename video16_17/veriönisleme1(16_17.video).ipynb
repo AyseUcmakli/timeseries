{
 "cells": [
  {
   "cell_type": "code",
   "execution_count": 53,
   "id": "0c14b6b5",
   "metadata": {},
   "outputs": [],
   "source": [
    "import pandas as pd\n",
    "from datetime import datetime\n",
    "import  matplotlib.pyplot as plt"
   ]
  },
  {
   "cell_type": "code",
   "execution_count": 62,
   "id": "19ebddf8",
   "metadata": {},
   "outputs": [],
   "source": [
    "veri = pd.read_excel(\"dolar_satıs_evds16.xlsx\")"
   ]
  },
  {
   "cell_type": "code",
   "execution_count": 63,
   "id": "d3534830",
   "metadata": {},
   "outputs": [
    {
     "name": "stdout",
     "output_type": "stream",
     "text": [
      "          Tarih    Dolar\n",
      "0    02-01-2020   5.9507\n",
      "1    03-01-2020   5.9585\n",
      "2    06-01-2020   5.9734\n",
      "3    07-01-2020   5.9766\n",
      "4    08-01-2020   5.9701\n",
      "..          ...      ...\n",
      "861  06-06-2023  21.1846\n",
      "862  07-06-2023  21.4952\n",
      "863  08-06-2023  23.0625\n",
      "864  09-06-2023  23.3632\n",
      "865  12-06-2023  23.4736\n",
      "\n",
      "[866 rows x 2 columns]\n"
     ]
    }
   ],
   "source": [
    "print(veri)"
   ]
  },
  {
   "cell_type": "code",
   "execution_count": 64,
   "id": "2a0099f0",
   "metadata": {},
   "outputs": [],
   "source": [
    "Tarihler = []\n",
    "\n",
    "for i in veri[\"Tarih\"]:\n",
    "    Tarihler.append(datetime.strptime(i, \"%d-%m-%Y\"))\n"
   ]
  },
  {
   "cell_type": "code",
   "execution_count": 65,
   "id": "2ff25df5",
   "metadata": {},
   "outputs": [
    {
     "name": "stdout",
     "output_type": "stream",
     "text": [
      "         Tarih    Dolar\n",
      "0   2020-01-02   5.9507\n",
      "1   2020-01-03   5.9585\n",
      "2   2020-01-06   5.9734\n",
      "3   2020-01-07   5.9766\n",
      "4   2020-01-08   5.9701\n",
      "..         ...      ...\n",
      "861 2023-06-06  21.1846\n",
      "862 2023-06-07  21.4952\n",
      "863 2023-06-08  23.0625\n",
      "864 2023-06-09  23.3632\n",
      "865 2023-06-12  23.4736\n",
      "\n",
      "[866 rows x 2 columns]\n"
     ]
    }
   ],
   "source": [
    "veri[\"Tarih\"] = Tarihler\n",
    "print(veri)"
   ]
  },
  {
   "cell_type": "code",
   "execution_count": 66,
   "id": "6485aeb3",
   "metadata": {},
   "outputs": [
    {
     "name": "stdout",
     "output_type": "stream",
     "text": [
      "Tarih    datetime64[ns]\n",
      "Dolar           float64\n",
      "dtype: object\n"
     ]
    }
   ],
   "source": [
    "print(veri.dtypes)"
   ]
  },
  {
   "cell_type": "code",
   "execution_count": 67,
   "id": "757c4492",
   "metadata": {},
   "outputs": [],
   "source": [
    "veri.sort_values(by =\"Tarih\",inplace = True)#ascending=False"
   ]
  },
  {
   "cell_type": "code",
   "execution_count": 68,
   "id": "7f514e82",
   "metadata": {},
   "outputs": [
    {
     "name": "stdout",
     "output_type": "stream",
     "text": [
      "              Dolar\n",
      "Tarih              \n",
      "2020-01-02   5.9507\n",
      "2020-01-03   5.9585\n",
      "2020-01-06   5.9734\n",
      "2020-01-07   5.9766\n",
      "2020-01-08   5.9701\n",
      "...             ...\n",
      "2023-06-06  21.1846\n",
      "2023-06-07  21.4952\n",
      "2023-06-08  23.0625\n",
      "2023-06-09  23.3632\n",
      "2023-06-12  23.4736\n",
      "\n",
      "[866 rows x 1 columns]\n"
     ]
    }
   ],
   "source": [
    "#Tarih adlı sütunu indeks olarak ayarlıyoruz.\n",
    "veri.set_index(\"Tarih\", inplace = True)\n",
    "print(veri)"
   ]
  },
  {
   "cell_type": "code",
   "execution_count": 49,
   "id": "c133a46d",
   "metadata": {},
   "outputs": [
    {
     "name": "stdout",
     "output_type": "stream",
     "text": [
      "               Dolar\n",
      "Tarih               \n",
      "2020-01-05   5.95460\n",
      "2020-01-12   5.95592\n",
      "2020-01-19   5.88188\n",
      "2020-01-26   5.91422\n",
      "2020-02-02   5.95298\n",
      "...              ...\n",
      "2023-05-21  19.68970\n",
      "2023-05-28  19.86674\n",
      "2023-06-04  20.38128\n",
      "2023-06-11  21.99754\n",
      "2023-06-18  23.47360\n",
      "\n",
      "[181 rows x 1 columns]\n",
      "            Dolar\n",
      "Tarih            \n",
      "2020-01-05   5.95\n",
      "2020-01-12   5.96\n",
      "2020-01-19   5.88\n",
      "2020-01-26   5.91\n",
      "2020-02-02   5.95\n",
      "...           ...\n",
      "2023-05-21  19.69\n",
      "2023-05-28  19.87\n",
      "2023-06-04  20.38\n",
      "2023-06-11  22.00\n",
      "2023-06-18  23.47\n",
      "\n",
      "[181 rows x 1 columns]\n"
     ]
    }
   ],
   "source": [
    "#Burada veriyi haftalık periyotlara göre yeniden örnekleyip  her hafta için verilerin ortalamasını alıyoruz.\n",
    "#Bu işlem veriyi daha düşük bir frekansta (haftalık) incelemek ve analiz etmek için kullanılır.\n",
    "\n",
    "veri2 =veri.resample(\"W\").mean()\n",
    "print(veri2)\n",
    "print(round(veri2,2))"
   ]
  },
  {
   "cell_type": "code",
   "execution_count": 50,
   "id": "3abc0297",
   "metadata": {},
   "outputs": [
    {
     "name": "stdout",
     "output_type": "stream",
     "text": [
      "                Dolar\n",
      "Tarih                \n",
      "2020-01-31   5.928827\n",
      "2020-02-29   6.055370\n",
      "2020-03-31   6.325805\n",
      "2020-04-30   6.831252\n",
      "2020-05-31   6.964488\n",
      "2020-06-30   6.821091\n",
      "2020-07-31   6.863452\n",
      "2020-08-31   7.265250\n",
      "2020-09-30   7.521323\n",
      "2020-10-31   7.888071\n",
      "2020-11-30   8.017762\n",
      "2020-12-31   7.734970\n",
      "2021-01-31   7.407285\n",
      "2021-02-28   7.085125\n",
      "2021-03-31   7.641970\n",
      "2021-04-30   8.169719\n",
      "2021-05-31   8.357272\n",
      "2021-06-30   8.612155\n",
      "2021-07-31   8.628465\n",
      "2021-08-31   8.490962\n",
      "2021-09-30   8.527205\n",
      "2021-10-31   9.156400\n",
      "2021-11-30  10.542214\n",
      "2021-12-31  13.552861\n",
      "2022-01-31  13.543614\n",
      "2022-02-28  13.645665\n",
      "2022-03-31  14.591843\n",
      "2022-04-30  14.710024\n",
      "2022-05-31  15.652056\n",
      "2022-06-30  16.995273\n",
      "2022-07-31  17.418739\n",
      "2022-08-31  18.027377\n",
      "2022-09-30  18.314400\n",
      "2022-10-31  18.598067\n",
      "2022-11-30  18.624382\n",
      "2022-12-31  18.670545\n",
      "2023-01-31  18.791373\n",
      "2023-02-28  18.857210\n",
      "2023-03-31  19.003478\n",
      "2023-04-30  19.337032\n",
      "2023-05-31  19.719514\n",
      "2023-06-30  21.869013\n",
      "            Dolar\n",
      "Tarih            \n",
      "2020-01-31   5.93\n",
      "2020-02-29   6.06\n",
      "2020-03-31   6.33\n",
      "2020-04-30   6.83\n",
      "2020-05-31   6.96\n",
      "2020-06-30   6.82\n",
      "2020-07-31   6.86\n",
      "2020-08-31   7.27\n",
      "2020-09-30   7.52\n",
      "2020-10-31   7.89\n",
      "2020-11-30   8.02\n",
      "2020-12-31   7.73\n",
      "2021-01-31   7.41\n",
      "2021-02-28   7.09\n",
      "2021-03-31   7.64\n",
      "2021-04-30   8.17\n",
      "2021-05-31   8.36\n",
      "2021-06-30   8.61\n",
      "2021-07-31   8.63\n",
      "2021-08-31   8.49\n",
      "2021-09-30   8.53\n",
      "2021-10-31   9.16\n",
      "2021-11-30  10.54\n",
      "2021-12-31  13.55\n",
      "2022-01-31  13.54\n",
      "2022-02-28  13.65\n",
      "2022-03-31  14.59\n",
      "2022-04-30  14.71\n",
      "2022-05-31  15.65\n",
      "2022-06-30  17.00\n",
      "2022-07-31  17.42\n",
      "2022-08-31  18.03\n",
      "2022-09-30  18.31\n",
      "2022-10-31  18.60\n",
      "2022-11-30  18.62\n",
      "2022-12-31  18.67\n",
      "2023-01-31  18.79\n",
      "2023-02-28  18.86\n",
      "2023-03-31  19.00\n",
      "2023-04-30  19.34\n",
      "2023-05-31  19.72\n",
      "2023-06-30  21.87\n"
     ]
    }
   ],
   "source": [
    "veri3 =veri.resample(\"M\").mean()\n",
    "print(veri3)\n",
    "print(round(veri3,2))"
   ]
  },
  {
   "cell_type": "code",
   "execution_count": 52,
   "id": "b52ca7f8",
   "metadata": {},
   "outputs": [
    {
     "name": "stdout",
     "output_type": "stream",
     "text": [
      "                Dolar\n",
      "Tarih                \n",
      "2020-03-31   6.104833\n",
      "2020-06-30   6.865277\n",
      "2020-09-30   7.220740\n",
      "2020-12-31   7.875797\n",
      "2021-03-31   7.390690\n",
      "2021-06-30   8.384630\n",
      "2021-09-30   8.543210\n",
      "2021-12-31  11.181115\n",
      "2022-03-31  13.952212\n",
      "2022-06-30  15.812189\n",
      "2022-09-30  17.952523\n",
      "2022-12-31  18.631505\n",
      "2023-03-31  18.886683\n",
      "2023-06-30  19.926365\n",
      "            Dolar\n",
      "Tarih            \n",
      "2020-03-31   6.10\n",
      "2020-06-30   6.87\n",
      "2020-09-30   7.22\n",
      "2020-12-31   7.88\n",
      "2021-03-31   7.39\n",
      "2021-06-30   8.38\n",
      "2021-09-30   8.54\n",
      "2021-12-31  11.18\n",
      "2022-03-31  13.95\n",
      "2022-06-30  15.81\n",
      "2022-09-30  17.95\n",
      "2022-12-31  18.63\n",
      "2023-03-31  18.89\n",
      "2023-06-30  19.93\n"
     ]
    }
   ],
   "source": [
    "    veri4 =veri.resample(\"Q\").mean()\n",
    "print(veri4)\n",
    "print(round(veri4,2))"
   ]
  },
  {
   "cell_type": "code",
   "execution_count": null,
   "id": "de1a05d5",
   "metadata": {},
   "outputs": [],
   "source": []
  }
 ],
 "metadata": {
  "kernelspec": {
   "display_name": "Python 3 (ipykernel)",
   "language": "python",
   "name": "python3"
  },
  "language_info": {
   "codemirror_mode": {
    "name": "ipython",
    "version": 3
   },
   "file_extension": ".py",
   "mimetype": "text/x-python",
   "name": "python",
   "nbconvert_exporter": "python",
   "pygments_lexer": "ipython3",
   "version": "3.9.13"
  },
  "varInspector": {
   "cols": {
    "lenName": 16,
    "lenType": 16,
    "lenVar": 40
   },
   "kernels_config": {
    "python": {
     "delete_cmd_postfix": "",
     "delete_cmd_prefix": "del ",
     "library": "var_list.py",
     "varRefreshCmd": "print(var_dic_list())"
    },
    "r": {
     "delete_cmd_postfix": ") ",
     "delete_cmd_prefix": "rm(",
     "library": "var_list.r",
     "varRefreshCmd": "cat(var_dic_list()) "
    }
   },
   "types_to_exclude": [
    "module",
    "function",
    "builtin_function_or_method",
    "instance",
    "_Feature"
   ],
   "window_display": false
  }
 },
 "nbformat": 4,
 "nbformat_minor": 5
}
